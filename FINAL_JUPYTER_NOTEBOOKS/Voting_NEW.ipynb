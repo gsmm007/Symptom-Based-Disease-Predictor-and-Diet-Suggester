{
 "cells": [
  {
   "cell_type": "markdown",
   "metadata": {},
   "source": [
    "# **Voting**"
   ]
  },
  {
   "cell_type": "code",
   "execution_count": 2,
   "metadata": {},
   "outputs": [],
   "source": [
    "import warnings\n",
    "from decimal import Decimal\n",
    "import pandas as pd\n",
    "from sklearn.tree import DecisionTreeClassifier\n",
    "from sklearn.linear_model import LogisticRegression\n",
    "from sklearn.neighbors import KNeighborsClassifier\n",
    "from sklearn.svm import SVC\n",
    "from sklearn.metrics import accuracy_score\n",
    "from sklearn.model_selection import train_test_split, cross_val_score\n",
    "from sklearn.model_selection import GridSearchCV\n",
    "from sklearn.naive_bayes import MultinomialNB\n",
    "from sklearn.ensemble import RandomForestClassifier, VotingClassifier\n",
    "from sklearn.neural_network import MLPClassifier\n",
    "from xgboost import XGBClassifier\n",
    "import matplotlib.pyplot as plt\n",
    "# ignore warnings generated due to usage of old version of tensorflow\n",
    "warnings.simplefilter(\"ignore\")\n",
    "from sklearn.metrics import classification_report,confusion_matrix"
   ]
  },
  {
   "cell_type": "code",
   "execution_count": 3,
   "metadata": {},
   "outputs": [],
   "source": [
    "df_comb = pd.read_csv(\"Dataset/dis_sym_dataset_comb.csv\")\n",
    "X = df_comb.iloc[:, 1:]\n",
    "Y = df_comb.iloc[:, 0:1]"
   ]
  },
  {
   "cell_type": "code",
   "execution_count": 4,
   "metadata": {},
   "outputs": [],
   "source": [
    "x_train, x_test, y_train, y_test = train_test_split(X, Y, test_size=0.10)"
   ]
  },
  {
   "cell_type": "code",
   "execution_count": 5,
   "metadata": {},
   "outputs": [],
   "source": [
    "accuracy_list = []\n",
    "cross_accuracy_list = []\n",
    "model_list = []\n"
   ]
  },
  {
   "cell_type": "markdown",
   "metadata": {},
   "source": [
    "### Testing"
   ]
  },
  {
   "cell_type": "code",
   "execution_count": 6,
   "metadata": {},
   "outputs": [],
   "source": [
    "knn = KNeighborsClassifier(n_neighbors=7, weights='distance', n_jobs=4)\n",
    "lr = LogisticRegression()\n",
    "svm = SVC()\n",
    "dt = DecisionTreeClassifier()\n",
    "mlp = MLPClassifier(hidden_layer_sizes=(32, 32, 32), activation='relu', solver='adam', max_iter=50)"
   ]
  },
  {
   "cell_type": "code",
   "execution_count": 10,
   "metadata": {},
   "outputs": [],
   "source": [
    "voting = VotingClassifier([('KNN', knn),\n",
    "                           ('LR', lr),\n",
    "                           ('SVM', svm),\n",
    "                          ('DT',dt),\n",
    "                          ('MLP',mlp)])\n"
   ]
  },
  {
   "cell_type": "code",
   "execution_count": 11,
   "metadata": {},
   "outputs": [],
   "source": [
    "voting.fit(X, Y)\n",
    "hard_predictions = voting.predict(x_test)"
   ]
  },
  {
   "cell_type": "code",
   "execution_count": 12,
   "metadata": {},
   "outputs": [
    {
     "name": "stdout",
     "output_type": "stream",
     "text": [
      "Accuracy (HV) : 91.63%\n",
      "Cross Validation Accuracy (HV): 89.20%\n"
     ]
    }
   ],
   "source": [
    "acc_hard_voting= round(Decimal(accuracy_score(y_test, hard_predictions) * 100), 2)\n",
    "accuracy_list.append(acc_hard_voting)\n",
    "model_list.append(\"HV\")\n",
    "print(f\"Accuracy (HV) : {acc_hard_voting}%\")\n",
    "scores_hv = cross_val_score(voting, X, Y, cv=5)\n",
    "# mean of cross val score (accuracy)\n",
    "score = round(Decimal(scores_hv.mean() * 100), 2)\n",
    "cross_accuracy_list.append(score)\n",
    "print(f\"Cross Validation Accuracy (HV): {score}%\")"
   ]
  },
  {
   "cell_type": "markdown",
   "metadata": {},
   "source": [
    "## 1. Hard Voting"
   ]
  },
  {
   "cell_type": "markdown",
   "metadata": {},
   "source": [
    "According to the average accuracy(normal+cross validation) the increasing order of models is as follows:\n",
    "MNB, DT, MLP, RF, KNN, SVM, LR\n",
    "We can consider 4 strong models to form an ensemble with remaining 3 weak models each.\n",
    "Note: Random Forests model is an ensemble of Decision Tree. However, it can be included in the combination to increase accuracy. \n",
    "Ensemble 1: LR + SVM + KNN + MNB\n",
    "Ensemble 2: LR + SVM + KNN + MLP\n",
    "Ensemble 3: LR + SVM + KNN + RF\n",
    "Ensemble 4: LR + SVM + KNN + DT"
   ]
  },
  {
   "cell_type": "markdown",
   "metadata": {},
   "source": [
    "### 1.1 Ensemble1: LR + SVM + KNN + MNB"
   ]
  },
  {
   "cell_type": "code",
   "execution_count": 5,
   "metadata": {},
   "outputs": [],
   "source": [
    "knn1 = KNeighborsClassifier(n_neighbors=7, weights='distance', n_jobs=4)\n",
    "lr1 = LogisticRegression()\n",
    "svm1 = SVC()\n",
    "mnb1 = MultinomialNB()"
   ]
  },
  {
   "cell_type": "code",
   "execution_count": 7,
   "metadata": {},
   "outputs": [],
   "source": [
    "voting1_new = VotingClassifier([('LR', lr1),\n",
    "                           ('SVM', svm1),\n",
    "                          ('KNN',knn1),\n",
    "                          ('MNB',mnb1)])\n"
   ]
  },
  {
   "cell_type": "code",
   "execution_count": 8,
   "metadata": {},
   "outputs": [],
   "source": [
    "voting1_new.fit(X, Y)\n",
    "hard_predictions1_new = voting1_new.predict(x_test)"
   ]
  },
  {
   "cell_type": "code",
   "execution_count": 9,
   "metadata": {},
   "outputs": [
    {
     "name": "stdout",
     "output_type": "stream",
     "text": [
      "Accuracy (HV_mnb) : 91.86%\n",
      "Cross Validation Accuracy (HV_mnb): 88.73%\n"
     ]
    }
   ],
   "source": [
    "acc_hard_mnb_new= round(Decimal(accuracy_score(y_test, hard_predictions1_new) * 100), 2)\n",
    "accuracy_list.append(acc_hard_mnb_new)\n",
    "model_list.append(\"HV_mnb\")\n",
    "print(f\"Accuracy (HV_mnb) : {acc_hard_mnb_new}%\")\n",
    "scores_hv_mnb_new = cross_val_score(voting1_new, X, Y, cv=5)\n",
    "# mean of cross val score (accuracy)\n",
    "score1_new = round(Decimal(scores_hv_mnb_new.mean() * 100), 2)\n",
    "cross_accuracy_list.append(score1_new)\n",
    "print(f\"Cross Validation Accuracy (HV_mnb): {score1_new}%\")"
   ]
  },
  {
   "cell_type": "markdown",
   "metadata": {},
   "source": [
    "### 1.2 Ensemble2: LR + SVM + KNN + MLP "
   ]
  },
  {
   "cell_type": "code",
   "execution_count": 6,
   "metadata": {},
   "outputs": [],
   "source": [
    "knn2 = KNeighborsClassifier(n_neighbors=7, weights='distance', n_jobs=4)\n",
    "lr2 = LogisticRegression()\n",
    "svm2 = SVC()\n",
    "mlp2 = MLPClassifier(hidden_layer_sizes=(32, 32, 32), activation='relu', solver='adam', max_iter=50)"
   ]
  },
  {
   "cell_type": "code",
   "execution_count": 7,
   "metadata": {},
   "outputs": [],
   "source": [
    "voting2_new = VotingClassifier([('LR', lr2),\n",
    "                           ('SVM', svm2),\n",
    "                          ('KNN',knn2),\n",
    "                          ('MLP',mlp2)])"
   ]
  },
  {
   "cell_type": "code",
   "execution_count": 8,
   "metadata": {},
   "outputs": [],
   "source": [
    "voting2_new.fit(X, Y)\n",
    "hard_predictions2_new = voting2_new.predict(x_test)"
   ]
  },
  {
   "cell_type": "code",
   "execution_count": 9,
   "metadata": {},
   "outputs": [
    {
     "name": "stdout",
     "output_type": "stream",
     "text": [
      "[[1 0 0 ... 0 0 0]\n",
      " [0 4 0 ... 0 0 0]\n",
      " [0 0 1 ... 0 0 0]\n",
      " ...\n",
      " [0 0 0 ... 3 0 0]\n",
      " [0 0 0 ... 0 3 0]\n",
      " [0 0 0 ... 0 0 1]]\n",
      "Accuracy (HV_mlp) : 90.95%\n",
      "Cross Validation Accuracy (HV_mnb): 88.67%\n"
     ]
    }
   ],
   "source": [
    "acc_hard_mlp_new= round(Decimal(accuracy_score(y_test, hard_predictions2_new) * 100), 2)\n",
    "print(confusion_matrix(y_test,hard_predictions2_new))\n",
    "accuracy_list.append(acc_hard_mlp_new)\n",
    "model_list.append(\"HV_mlp\")\n",
    "print(f\"Accuracy (HV_mlp) : {acc_hard_mlp_new}%\")\n",
    "scores_hv_mlp_new = cross_val_score(voting2_new, X, Y, cv=5)\n",
    "# mean of cross val score (accuracy)\n",
    "score2_new = round(Decimal(scores_hv_mlp_new.mean() * 100), 2)\n",
    "cross_accuracy_list.append(score2_new)\n",
    "print(f\"Cross Validation Accuracy (HV_mnb): {score2_new}%\")"
   ]
  },
  {
   "cell_type": "code",
   "execution_count": 2,
   "metadata": {},
   "outputs": [
    {
     "ename": "NameError",
     "evalue": "name 'y_test' is not defined",
     "output_type": "error",
     "traceback": [
      "\u001b[0;31m---------------------------------------------------------------------------\u001b[0m",
      "\u001b[0;31mNameError\u001b[0m                                 Traceback (most recent call last)",
      "\u001b[0;32m<ipython-input-2-c3a975bf2753>\u001b[0m in \u001b[0;36m<module>\u001b[0;34m()\u001b[0m\n\u001b[0;32m----> 1\u001b[0;31m \u001b[0mprint\u001b[0m\u001b[0;34m(\u001b[0m\u001b[0mconfusion_matrix\u001b[0m\u001b[0;34m(\u001b[0m\u001b[0my_test\u001b[0m\u001b[0;34m,\u001b[0m\u001b[0mhard_predictions2_new\u001b[0m\u001b[0;34m)\u001b[0m\u001b[0;34m)\u001b[0m\u001b[0;34m\u001b[0m\u001b[0m\n\u001b[0m",
      "\u001b[0;31mNameError\u001b[0m: name 'y_test' is not defined"
     ]
    }
   ],
   "source": [
    "print(confusion_matrix(y_test,hard_predictions2_new))"
   ]
  },
  {
   "cell_type": "markdown",
   "metadata": {},
   "source": [
    "### 1.3 Ensemble3: LR + SVM + KNN + RF"
   ]
  },
  {
   "cell_type": "code",
   "execution_count": 16,
   "metadata": {},
   "outputs": [],
   "source": [
    "knn3 = KNeighborsClassifier(n_neighbors=7, weights='distance', n_jobs=4)\n",
    "lr3 = LogisticRegression()\n",
    "svm3 = SVC()\n",
    "rf3 = RandomForestClassifier(n_estimators=10, criterion='entropy')"
   ]
  },
  {
   "cell_type": "code",
   "execution_count": 17,
   "metadata": {},
   "outputs": [],
   "source": [
    "voting3_new = VotingClassifier([('LR', lr3),\n",
    "                           ('SVM', svm3),\n",
    "                          ('KNN',knn3),\n",
    "                          ('RF',rf3)])"
   ]
  },
  {
   "cell_type": "code",
   "execution_count": 18,
   "metadata": {},
   "outputs": [],
   "source": [
    "voting3_new.fit(X, Y)\n",
    "hard_predictions3_new = voting3_new.predict(x_test)"
   ]
  },
  {
   "cell_type": "code",
   "execution_count": 20,
   "metadata": {},
   "outputs": [
    {
     "name": "stdout",
     "output_type": "stream",
     "text": [
      "Accuracy (HV_RF) : 92.19%\n",
      "Cross Validation Accuracy (HV_RF): 88.58%\n"
     ]
    }
   ],
   "source": [
    "acc_hard_rf_new= round(Decimal(accuracy_score(y_test, hard_predictions3_new) * 100), 2)\n",
    "accuracy_list.append(acc_hard_rf_new)\n",
    "model_list.append(\"HV_RF\")\n",
    "print(f\"Accuracy (HV_RF) : {acc_hard_rf_new}%\")\n",
    "scores_hv_rf_new = cross_val_score(voting3_new, X, Y, cv=5)\n",
    "# mean of cross val score (accuracy)\n",
    "score3_new = round(Decimal(scores_hv_rf_new.mean() * 100), 2)\n",
    "cross_accuracy_list.append(score3_new)\n",
    "print(f\"Cross Validation Accuracy (HV_RF): {score3_new}%\")"
   ]
  },
  {
   "cell_type": "markdown",
   "metadata": {},
   "source": [
    "### 1.4 Ensemble4: LR + SVM + KNN + DT"
   ]
  },
  {
   "cell_type": "code",
   "execution_count": 21,
   "metadata": {},
   "outputs": [],
   "source": [
    "knn4 = KNeighborsClassifier(n_neighbors=7, weights='distance', n_jobs=4)\n",
    "lr4 = LogisticRegression()\n",
    "svm4 = SVC()\n",
    "dt4 = DecisionTreeClassifier()"
   ]
  },
  {
   "cell_type": "code",
   "execution_count": 22,
   "metadata": {},
   "outputs": [],
   "source": [
    "voting4_new = VotingClassifier([('LR', lr4),\n",
    "                           ('SVM', svm4),\n",
    "                          ('KNN',knn4),\n",
    "                          ('DT',dt4)])"
   ]
  },
  {
   "cell_type": "code",
   "execution_count": 23,
   "metadata": {},
   "outputs": [],
   "source": [
    "voting4_new.fit(X, Y)\n",
    "hard_predictions4_new = voting4_new.predict(x_test)"
   ]
  },
  {
   "cell_type": "code",
   "execution_count": 24,
   "metadata": {},
   "outputs": [
    {
     "name": "stdout",
     "output_type": "stream",
     "text": [
      "Accuracy (HV_DT) : 91.97%\n",
      "Cross Validation Accuracy (HV_DT): 88.29%\n"
     ]
    }
   ],
   "source": [
    "acc_hard_dt4_new= round(Decimal(accuracy_score(y_test, hard_predictions4_new) * 100), 2)\n",
    "accuracy_list.append(acc_hard_dt4_new)\n",
    "model_list.append(\"HV_DT\")\n",
    "print(f\"Accuracy (HV_DT) : {acc_hard_dt4_new}%\")\n",
    "scores_hv_dt4_new = cross_val_score(voting4_new, X, Y, cv=5)\n",
    "# mean of cross val score (accuracy)\n",
    "score4_new = round(Decimal(scores_hv_dt4_new.mean() * 100), 2)\n",
    "cross_accuracy_list.append(score4_new)\n",
    "print(f\"Cross Validation Accuracy (HV_DT): {score4_new}%\")"
   ]
  },
  {
   "cell_type": "code",
   "execution_count": 10,
   "metadata": {},
   "outputs": [
    {
     "data": {
      "image/png": "[encoded data removed]",
      "text/plain": [
       "<Figure size 921.6x633.6 with 1 Axes>"
      ]
     },
     "metadata": {},
     "output_type": "display_data"
    }
   ],
   "source": [
    "hard_voting_accuracy = [91.86, 90.95, 92.19, 91.97]\n",
    "hard_voting_models = ['Ensemble1', 'Ensemble2', 'Ensemble3', 'Ensemble4']\n",
    "plt.style.use('seaborn-poster')\n",
    "plt.title(\"Hard Voting Model Vs Accuracy\")\n",
    "plt.xlabel('Classifier')\n",
    "plt.ylabel('Accuracy (%)')\n",
    "plt.bar(hard_voting_models, hard_voting_accuracy, color=(0.2, 0.4, 0.6, 0.6), width = 0.60)\n",
    "plt.show()"
   ]
  },
  {
   "cell_type": "code",
   "execution_count": 11,
   "metadata": {},
   "outputs": [
    {
     "data": {
      "text/html": [
       "<div>\n",
       "<style scoped>\n",
       "    .dataframe tbody tr th:only-of-type {\n",
       "        vertical-align: middle;\n",
       "    }\n",
       "\n",
       "    .dataframe tbody tr th {\n",
       "        vertical-align: top;\n",
       "    }\n",
       "\n",
       "    .dataframe thead th {\n",
       "        text-align: right;\n",
       "    }\n",
       "</style>\n",
       "<table border=\"1\" class=\"dataframe\">\n",
       "  <thead>\n",
       "    <tr style=\"text-align: right;\">\n",
       "      <th></th>\n",
       "      <th>Hard Voting Model</th>\n",
       "      <th>Accuracy(%)</th>\n",
       "    </tr>\n",
       "  </thead>\n",
       "  <tbody>\n",
       "    <tr>\n",
       "      <th>0</th>\n",
       "      <td>LR+SVM+KNN+MNB</td>\n",
       "      <td>91.86</td>\n",
       "    </tr>\n",
       "    <tr>\n",
       "      <th>1</th>\n",
       "      <td>LR+SVM+KNN+MLP</td>\n",
       "      <td>90.95</td>\n",
       "    </tr>\n",
       "    <tr>\n",
       "      <th>2</th>\n",
       "      <td>LR+SVM+KNN+RF</td>\n",
       "      <td>92.19</td>\n",
       "    </tr>\n",
       "    <tr>\n",
       "      <th>3</th>\n",
       "      <td>LR+SVM+KNN+DT</td>\n",
       "      <td>91.97</td>\n",
       "    </tr>\n",
       "  </tbody>\n",
       "</table>\n",
       "</div>"
      ],
      "text/plain": [
       "  Hard Voting Model  Accuracy(%)\n",
       "0    LR+SVM+KNN+MNB        91.86\n",
       "1    LR+SVM+KNN+MLP        90.95\n",
       "2     LR+SVM+KNN+RF        92.19\n",
       "3     LR+SVM+KNN+DT        91.97"
      ]
     },
     "execution_count": 11,
     "metadata": {},
     "output_type": "execute_result"
    }
   ],
   "source": [
    "dict = {'Hard Voting Model' : ['LR+SVM+KNN+MNB', 'LR+SVM+KNN+MLP', 'LR+SVM+KNN+RF', 'LR+SVM+KNN+DT'],\n",
    "        'Accuracy(%)' : [91.86, 90.95, 92.19, 91.97]}\n",
    "df = pd.DataFrame(dict)\n",
    "df"
   ]
  },
  {
   "cell_type": "code",
   "execution_count": 13,
   "metadata": {},
   "outputs": [
    {
     "data": {
      "image/png": "[encoded data removed]",
      "text/plain": [
       "<Figure size 921.6x633.6 with 1 Axes>"
      ]
     },
     "metadata": {},
     "output_type": "display_data"
    }
   ],
   "source": [
    "hard_voting_accuracy = [88.73, 88.67, 88.58, 88.29]\n",
    "hard_voting_models = ['Ensemble1', 'Ensemble2', 'Ensemble3', 'Ensemble4']\n",
    "plt.style.use('seaborn-poster')\n",
    "plt.title(\"Hard Voting Model Vs Cross Validation Accuracy\")\n",
    "plt.xlabel('Classifier')\n",
    "plt.ylabel('Cross Validation Score (%)')\n",
    "plt.bar(hard_voting_models, hard_voting_accuracy, color=(0.2, 0.4, 0.6, 0.6), width = 0.60)\n",
    "plt.show()"
   ]
  },
  {
   "cell_type": "code",
   "execution_count": 14,
   "metadata": {},
   "outputs": [
    {
     "data": {
      "text/html": [
       "<div>\n",
       "<style scoped>\n",
       "    .dataframe tbody tr th:only-of-type {\n",
       "        vertical-align: middle;\n",
       "    }\n",
       "\n",
       "    .dataframe tbody tr th {\n",
       "        vertical-align: top;\n",
       "    }\n",
       "\n",
       "    .dataframe thead th {\n",
       "        text-align: right;\n",
       "    }\n",
       "</style>\n",
       "<table border=\"1\" class=\"dataframe\">\n",
       "  <thead>\n",
       "    <tr style=\"text-align: right;\">\n",
       "      <th></th>\n",
       "      <th>Hard Voting Model</th>\n",
       "      <th>Cross Validtion Accuracy(%)</th>\n",
       "    </tr>\n",
       "  </thead>\n",
       "  <tbody>\n",
       "    <tr>\n",
       "      <th>0</th>\n",
       "      <td>LR+SVM+KNN+MNB</td>\n",
       "      <td>88.73</td>\n",
       "    </tr>\n",
       "    <tr>\n",
       "      <th>1</th>\n",
       "      <td>LR+SVM+KNN+MLP</td>\n",
       "      <td>88.67</td>\n",
       "    </tr>\n",
       "    <tr>\n",
       "      <th>2</th>\n",
       "      <td>LR+SVM+KNN+RF</td>\n",
       "      <td>88.58</td>\n",
       "    </tr>\n",
       "    <tr>\n",
       "      <th>3</th>\n",
       "      <td>LR+SVM+KNN+DT</td>\n",
       "      <td>88.29</td>\n",
       "    </tr>\n",
       "  </tbody>\n",
       "</table>\n",
       "</div>"
      ],
      "text/plain": [
       "  Hard Voting Model  Cross Validtion Accuracy(%)\n",
       "0    LR+SVM+KNN+MNB                        88.73\n",
       "1    LR+SVM+KNN+MLP                        88.67\n",
       "2     LR+SVM+KNN+RF                        88.58\n",
       "3     LR+SVM+KNN+DT                        88.29"
      ]
     },
     "execution_count": 14,
     "metadata": {},
     "output_type": "execute_result"
    }
   ],
   "source": [
    "dict = {'Hard Voting Model' : ['LR+SVM+KNN+MNB', 'LR+SVM+KNN+MLP', 'LR+SVM+KNN+RF', 'LR+SVM+KNN+DT'],\n",
    "        'Cross Validtion Accuracy(%)' : [88.73, 88.67, 88.58, 88.29]}\n",
    "df = pd.DataFrame(dict)\n",
    "df"
   ]
  },
  {
   "cell_type": "markdown",
   "metadata": {},
   "source": [
    "## 2. Soft Voting"
   ]
  },
  {
   "cell_type": "markdown",
   "metadata": {},
   "source": [
    "### 2.1 Ensemble1: LR + SVM + KNN + MNB"
   ]
  },
  {
   "cell_type": "code",
   "execution_count": 25,
   "metadata": {},
   "outputs": [],
   "source": [
    "knn5 = KNeighborsClassifier(n_neighbors=7, weights='distance', n_jobs=4)\n",
    "lr5 = LogisticRegression()\n",
    "svm5 = SVC(probability = True)\n",
    "mnb5 = MultinomialNB()"
   ]
  },
  {
   "cell_type": "code",
   "execution_count": 26,
   "metadata": {},
   "outputs": [],
   "source": [
    "sof_voting1_new = VotingClassifier([('LR', lr5),\n",
    "                           ('SVM', svm5),\n",
    "                          ('KNN',knn5),\n",
    "                          ('MNB',mnb5)], voting = 'soft')"
   ]
  },
  {
   "cell_type": "code",
   "execution_count": 27,
   "metadata": {},
   "outputs": [
    {
     "name": "stdout",
     "output_type": "stream",
     "text": [
      "Accuracy (SV_mnb) : 92.53%\n",
      "Cross Validation Accuracy (SV_mnb): 87.82%\n"
     ]
    }
   ],
   "source": [
    "sof_voting1_new.fit(X, Y)\n",
    "soft_predictions1_new = sof_voting1_new.predict(x_test)\n",
    "acc_soft_mnb_new = round(Decimal(accuracy_score(y_test,soft_predictions1_new) * 100), 2)\n",
    "accuracy_list.append(acc_soft_mnb_new)\n",
    "model_list.append(\"SV_mnb\")\n",
    "print(f\"Accuracy (SV_mnb) : {acc_soft_mnb_new}%\")\n",
    "scores_sv_mnb_new = cross_val_score(sof_voting1_new, X, Y, cv=5)\n",
    "# mean of cross val score (accuracy)\n",
    "score_sv1_new = round(Decimal(scores_sv_mnb_new.mean() * 100), 2)\n",
    "cross_accuracy_list.append(score_sv1_new)\n",
    "print(f\"Cross Validation Accuracy (SV_mnb): {score_sv1_new}%\")"
   ]
  },
  {
   "cell_type": "markdown",
   "metadata": {},
   "source": [
    "### 2.2 Ensemble2: LR + SVM + KNN + MLP"
   ]
  },
  {
   "cell_type": "code",
   "execution_count": 28,
   "metadata": {},
   "outputs": [],
   "source": [
    "knn6 = KNeighborsClassifier(n_neighbors=7, weights='distance', n_jobs=4)\n",
    "lr6 = LogisticRegression()\n",
    "svm6 = SVC(probability=True)\n",
    "mlp6 = MLPClassifier(hidden_layer_sizes=(32, 32, 32), activation='relu', solver='adam', max_iter=50)"
   ]
  },
  {
   "cell_type": "code",
   "execution_count": 29,
   "metadata": {},
   "outputs": [],
   "source": [
    "sof_voting2_new = VotingClassifier([('LR', lr6),\n",
    "                           ('SVM', svm6),\n",
    "                          ('KNN',knn6),\n",
    "                          ('MLP',mlp6)], voting = 'soft')"
   ]
  },
  {
   "cell_type": "code",
   "execution_count": 32,
   "metadata": {},
   "outputs": [
    {
     "name": "stdout",
     "output_type": "stream",
     "text": [
      "Accuracy (SV_mlp) : 92.99%\n",
      "Cross Validation Accuracy (SV_mlp): 87.81%\n"
     ]
    }
   ],
   "source": [
    "sof_voting2_new.fit(X, Y)\n",
    "soft_predictions2_new = sof_voting2_new.predict(x_test)\n",
    "acc_soft_mlp_new= round(Decimal(accuracy_score(y_test,soft_predictions2_new) * 100), 2)\n",
    "accuracy_list.append(acc_soft_mlp_new)\n",
    "model_list.append(\"SV_mlp\")\n",
    "print(f\"Accuracy (SV_mlp) : {acc_soft_mlp_new}%\")\n",
    "scores_sv_mlp_new = cross_val_score(sof_voting2_new, X, Y, cv=5)\n",
    "# mean of cross val score (accuracy)\n",
    "score_sv2_new = round(Decimal(scores_sv_mlp_new.mean() * 100), 2)\n",
    "cross_accuracy_list.append(score_sv2_new)\n",
    "print(f\"Cross Validation Accuracy (SV_mlp): {score_sv2_new}%\")"
   ]
  },
  {
   "cell_type": "markdown",
   "metadata": {},
   "source": [
    "### 2.3 Ensemble3: LR + SVM + KNN + RF"
   ]
  },
  {
   "cell_type": "code",
   "execution_count": 34,
   "metadata": {},
   "outputs": [],
   "source": [
    "knn7 = KNeighborsClassifier(n_neighbors=7, weights='distance', n_jobs=4)\n",
    "lr7 = LogisticRegression()\n",
    "svm7 = SVC(probability =True)\n",
    "rf7 = RandomForestClassifier(n_estimators=10, criterion='entropy')"
   ]
  },
  {
   "cell_type": "code",
   "execution_count": 35,
   "metadata": {},
   "outputs": [],
   "source": [
    "sof_voting3_new = VotingClassifier([('LR', lr7),\n",
    "                           ('SVM', svm7),\n",
    "                          ('KNN',knn7),\n",
    "                          ('RF',rf7)], voting = 'soft')"
   ]
  },
  {
   "cell_type": "code",
   "execution_count": 37,
   "metadata": {},
   "outputs": [
    {
     "name": "stdout",
     "output_type": "stream",
     "text": [
      "Accuracy (SV_RF) : 92.42%\n",
      "Cross Validation Accuracy (SV_RF): 88.10%\n"
     ]
    }
   ],
   "source": [
    "sof_voting3_new.fit(X, Y)\n",
    "soft_predictions3_new = sof_voting3_new.predict(x_test)\n",
    "acc_soft_rf_new = round(Decimal(accuracy_score(y_test,soft_predictions3_new) * 100), 2)\n",
    "accuracy_list.append(acc_soft_rf_new)\n",
    "model_list.append(\"SV_RF\")\n",
    "print(f\"Accuracy (SV_RF) : {acc_soft_rf_new}%\")\n",
    "scores_sv_rf_new = cross_val_score(sof_voting3_new, X, Y, cv=5)\n",
    "# mean of cross val score (accuracy)\n",
    "score_sv3_new = round(Decimal(scores_sv_rf_new.mean() * 100), 2)\n",
    "cross_accuracy_list.append(score_sv3_new)\n",
    "print(f\"Cross Validation Accuracy (SV_RF): {score_sv3_new}%\")"
   ]
  },
  {
   "cell_type": "markdown",
   "metadata": {},
   "source": [
    "### 2.4 Ensemble4: LR + SVM + KNN + DT"
   ]
  },
  {
   "cell_type": "code",
   "execution_count": 38,
   "metadata": {},
   "outputs": [],
   "source": [
    "knn8 = KNeighborsClassifier(n_neighbors=7, weights='distance', n_jobs=4)\n",
    "lr8 = LogisticRegression()\n",
    "svm8 = SVC(probability = True)\n",
    "dt8 = DecisionTreeClassifier()"
   ]
  },
  {
   "cell_type": "code",
   "execution_count": 39,
   "metadata": {},
   "outputs": [],
   "source": [
    "sof_voting4_new = VotingClassifier([('LR', lr8),\n",
    "                           ('SVM', svm8),\n",
    "                          ('KNN',knn8),\n",
    "                          ('DT',dt8)], voting = 'soft')"
   ]
  },
  {
   "cell_type": "code",
   "execution_count": 41,
   "metadata": {},
   "outputs": [
    {
     "name": "stdout",
     "output_type": "stream",
     "text": [
      "Accuracy (SV_DT) : 92.31%\n",
      "Cross Validation Accuracy (SV_DT): 86.26%\n"
     ]
    }
   ],
   "source": [
    "sof_voting4_new.fit(X, Y)\n",
    "soft_predictions4_new = sof_voting4_new.predict(x_test)\n",
    "acc_soft_dt_new = round(Decimal(accuracy_score(y_test,soft_predictions4_new) * 100), 2)\n",
    "accuracy_list.append(acc_soft_dt_new)\n",
    "model_list.append(\"SV_DT\")\n",
    "print(f\"Accuracy (SV_DT) : {acc_soft_dt_new}%\")\n",
    "scores_sv_dt_new = cross_val_score(sof_voting4_new, X, Y, cv=5)\n",
    "# mean of cross val score (accuracy)\n",
    "score_sv4_new = round(Decimal(scores_sv_dt_new.mean() * 100), 2)\n",
    "cross_accuracy_list.append(score_sv4_new)\n",
    "print(f\"Cross Validation Accuracy (SV_DT): {score_sv4_new}%\")"
   ]
  },
  {
   "cell_type": "code",
   "execution_count": 5,
   "metadata": {},
   "outputs": [
    {
     "ename": "NameError",
     "evalue": "name 'fig' is not defined",
     "output_type": "error",
     "traceback": [
      "\u001b[0;31m---------------------------------------------------------------------------\u001b[0m",
      "\u001b[0;31mNameError\u001b[0m                                 Traceback (most recent call last)",
      "\u001b[0;32m<ipython-input-5-f3bf2ddc149c>\u001b[0m in \u001b[0;36m<module>\u001b[0;34m()\u001b[0m\n\u001b[1;32m      7\u001b[0m \u001b[0mplt\u001b[0m\u001b[0;34m.\u001b[0m\u001b[0mbar\u001b[0m\u001b[0;34m(\u001b[0m\u001b[0msoft_voting_models\u001b[0m\u001b[0;34m,\u001b[0m \u001b[0msoft_voting_accuracy\u001b[0m\u001b[0;34m,\u001b[0m \u001b[0mcolor\u001b[0m\u001b[0;34m=\u001b[0m\u001b[0;34m(\u001b[0m\u001b[0;36m0.2\u001b[0m\u001b[0;34m,\u001b[0m \u001b[0;36m0.4\u001b[0m\u001b[0;34m,\u001b[0m \u001b[0;36m0.6\u001b[0m\u001b[0;34m,\u001b[0m \u001b[0;36m0.6\u001b[0m\u001b[0;34m)\u001b[0m\u001b[0;34m,\u001b[0m \u001b[0mwidth\u001b[0m \u001b[0;34m=\u001b[0m \u001b[0;36m0.60\u001b[0m\u001b[0;34m)\u001b[0m\u001b[0;34m\u001b[0m\u001b[0m\n\u001b[1;32m      8\u001b[0m \u001b[0;32mfor\u001b[0m \u001b[0mi\u001b[0m\u001b[0;34m,\u001b[0m \u001b[0mj\u001b[0m \u001b[0;32min\u001b[0m \u001b[0menumerate\u001b[0m\u001b[0;34m(\u001b[0m\u001b[0msoft_voting_accuracy\u001b[0m\u001b[0;34m)\u001b[0m\u001b[0;34m:\u001b[0m\u001b[0;34m\u001b[0m\u001b[0m\n\u001b[0;32m----> 9\u001b[0;31m     \u001b[0mfig\u001b[0m\u001b[0;34m.\u001b[0m\u001b[0mtext\u001b[0m\u001b[0;34m(\u001b[0m\u001b[0mfloat\u001b[0m\u001b[0;34m(\u001b[0m\u001b[0mi\u001b[0m\u001b[0;34m)\u001b[0m\u001b[0;34m-\u001b[0m\u001b[0;36m0.15\u001b[0m\u001b[0;34m,\u001b[0m \u001b[0mfloat\u001b[0m\u001b[0;34m(\u001b[0m\u001b[0mj\u001b[0m\u001b[0;34m)\u001b[0m\u001b[0;34m+\u001b[0m\u001b[0;36m0.7\u001b[0m\u001b[0;34m,\u001b[0m \u001b[0mstr\u001b[0m\u001b[0;34m(\u001b[0m\u001b[0mj\u001b[0m\u001b[0;34m)\u001b[0m\u001b[0;34m,\u001b[0m \u001b[0mcolor\u001b[0m\u001b[0;34m=\u001b[0m\u001b[0;34m'green'\u001b[0m\u001b[0;34m)\u001b[0m\u001b[0;34m\u001b[0m\u001b[0m\n\u001b[0m\u001b[1;32m     10\u001b[0m \u001b[0mplt\u001b[0m\u001b[0;34m.\u001b[0m\u001b[0mshow\u001b[0m\u001b[0;34m(\u001b[0m\u001b[0;34m)\u001b[0m\u001b[0;34m\u001b[0m\u001b[0m\n",
      "\u001b[0;31mNameError\u001b[0m: name 'fig' is not defined"
     ]
    },
    {
     "data": {
      "image/png": "[encoded data removed]",
      "text/plain": [
       "<Figure size 921.6x633.6 with 1 Axes>"
      ]
     },
     "metadata": {},
     "output_type": "display_data"
    }
   ],
   "source": [
    "soft_voting_accuracy = [92.53,92.99,92.42,92.31]\n",
    "soft_voting_models = ['Ensemble1', 'Ensemble2', 'Ensemble3', 'Ensemble4']\n",
    "plt.style.use('seaborn-poster')\n",
    "plt.title(\"Soft Voting Model Vs Accuracy\")\n",
    "plt.xlabel('Classifier')\n",
    "plt.ylabel('Accuracy (%)')\n",
    "plt.bar(soft_voting_models, soft_voting_accuracy, color=(0.2, 0.4, 0.6, 0.6), width = 0.60)\n",
    "for i, j in enumerate(soft_voting_accuracy):\n",
    "    fig.text(float(i)-0.15, float(j)+0.7, str(j), color='green')\n",
    "plt.show()\n"
   ]
  },
  {
   "cell_type": "code",
   "execution_count": 4,
   "metadata": {},
   "outputs": [
    {
     "data": {
      "text/html": [
       "<div>\n",
       "<style scoped>\n",
       "    .dataframe tbody tr th:only-of-type {\n",
       "        vertical-align: middle;\n",
       "    }\n",
       "\n",
       "    .dataframe tbody tr th {\n",
       "        vertical-align: top;\n",
       "    }\n",
       "\n",
       "    .dataframe thead th {\n",
       "        text-align: right;\n",
       "    }\n",
       "</style>\n",
       "<table border=\"1\" class=\"dataframe\">\n",
       "  <thead>\n",
       "    <tr style=\"text-align: right;\">\n",
       "      <th></th>\n",
       "      <th>Soft Voting Model</th>\n",
       "      <th>Accuracy(%)</th>\n",
       "    </tr>\n",
       "  </thead>\n",
       "  <tbody>\n",
       "    <tr>\n",
       "      <th>0</th>\n",
       "      <td>LR+SVM+KNN+MNB</td>\n",
       "      <td>92.53</td>\n",
       "    </tr>\n",
       "    <tr>\n",
       "      <th>1</th>\n",
       "      <td>LR+SVM+KNN+MLP</td>\n",
       "      <td>92.99</td>\n",
       "    </tr>\n",
       "    <tr>\n",
       "      <th>2</th>\n",
       "      <td>LR+SVM+KNN+RF</td>\n",
       "      <td>92.42</td>\n",
       "    </tr>\n",
       "    <tr>\n",
       "      <th>3</th>\n",
       "      <td>LR+SVM+KNN+DT</td>\n",
       "      <td>92.31</td>\n",
       "    </tr>\n",
       "  </tbody>\n",
       "</table>\n",
       "</div>"
      ],
      "text/plain": [
       "  Soft Voting Model  Accuracy(%)\n",
       "0    LR+SVM+KNN+MNB        92.53\n",
       "1    LR+SVM+KNN+MLP        92.99\n",
       "2     LR+SVM+KNN+RF        92.42\n",
       "3     LR+SVM+KNN+DT        92.31"
      ]
     },
     "execution_count": 4,
     "metadata": {},
     "output_type": "execute_result"
    }
   ],
   "source": [
    "dict = {'Soft Voting Model' : ['LR+SVM+KNN+MNB', 'LR+SVM+KNN+MLP', 'LR+SVM+KNN+RF', 'LR+SVM+KNN+DT'],\n",
    "        'Accuracy(%)' : [92.53,92.99,92.42,92.31]}\n",
    "df = pd.DataFrame(dict)\n",
    "df"
   ]
  },
  {
   "cell_type": "code",
   "execution_count": 6,
   "metadata": {},
   "outputs": [
    {
     "ename": "NameError",
     "evalue": "name 'fig' is not defined",
     "output_type": "error",
     "traceback": [
      "\u001b[0;31m---------------------------------------------------------------------------\u001b[0m",
      "\u001b[0;31mNameError\u001b[0m                                 Traceback (most recent call last)",
      "\u001b[0;32m<ipython-input-6-1b17fd2d4565>\u001b[0m in \u001b[0;36m<module>\u001b[0;34m()\u001b[0m\n\u001b[1;32m      7\u001b[0m \u001b[0mplt\u001b[0m\u001b[0;34m.\u001b[0m\u001b[0mbar\u001b[0m\u001b[0;34m(\u001b[0m\u001b[0msoft_voting_models\u001b[0m\u001b[0;34m,\u001b[0m \u001b[0msoft_voting_accuracy\u001b[0m\u001b[0;34m,\u001b[0m \u001b[0mcolor\u001b[0m\u001b[0;34m=\u001b[0m\u001b[0;34m(\u001b[0m\u001b[0;36m0.2\u001b[0m\u001b[0;34m,\u001b[0m \u001b[0;36m0.4\u001b[0m\u001b[0;34m,\u001b[0m \u001b[0;36m0.6\u001b[0m\u001b[0;34m,\u001b[0m \u001b[0;36m0.6\u001b[0m\u001b[0;34m)\u001b[0m\u001b[0;34m,\u001b[0m \u001b[0mwidth\u001b[0m \u001b[0;34m=\u001b[0m \u001b[0;36m0.60\u001b[0m\u001b[0;34m)\u001b[0m\u001b[0;34m\u001b[0m\u001b[0m\n\u001b[1;32m      8\u001b[0m \u001b[0;32mfor\u001b[0m \u001b[0mi\u001b[0m\u001b[0;34m,\u001b[0m \u001b[0mj\u001b[0m \u001b[0;32min\u001b[0m \u001b[0menumerate\u001b[0m\u001b[0;34m(\u001b[0m\u001b[0msoft_voting_accuracy\u001b[0m\u001b[0;34m)\u001b[0m\u001b[0;34m:\u001b[0m\u001b[0;34m\u001b[0m\u001b[0m\n\u001b[0;32m----> 9\u001b[0;31m     \u001b[0mfig\u001b[0m\u001b[0;34m.\u001b[0m\u001b[0mtext\u001b[0m\u001b[0;34m(\u001b[0m\u001b[0mfloat\u001b[0m\u001b[0;34m(\u001b[0m\u001b[0mi\u001b[0m\u001b[0;34m)\u001b[0m\u001b[0;34m-\u001b[0m\u001b[0;36m0.15\u001b[0m\u001b[0;34m,\u001b[0m \u001b[0mfloat\u001b[0m\u001b[0;34m(\u001b[0m\u001b[0mj\u001b[0m\u001b[0;34m)\u001b[0m\u001b[0;34m+\u001b[0m\u001b[0;36m0.7\u001b[0m\u001b[0;34m,\u001b[0m \u001b[0mstr\u001b[0m\u001b[0;34m(\u001b[0m\u001b[0mj\u001b[0m\u001b[0;34m)\u001b[0m\u001b[0;34m,\u001b[0m \u001b[0mcolor\u001b[0m\u001b[0;34m=\u001b[0m\u001b[0;34m'green'\u001b[0m\u001b[0;34m)\u001b[0m\u001b[0;34m\u001b[0m\u001b[0m\n\u001b[0m\u001b[1;32m     10\u001b[0m \u001b[0mplt\u001b[0m\u001b[0;34m.\u001b[0m\u001b[0mshow\u001b[0m\u001b[0;34m(\u001b[0m\u001b[0;34m)\u001b[0m\u001b[0;34m\u001b[0m\u001b[0m\n",
      "\u001b[0;31mNameError\u001b[0m: name 'fig' is not defined"
     ]
    },
    {
     "data": {
      "image/png": "[encoded data removed]",
      "text/plain": [
       "<Figure size 921.6x633.6 with 1 Axes>"
      ]
     },
     "metadata": {},
     "output_type": "display_data"
    }
   ],
   "source": [
    "soft_voting_accuracy = [87.82, 87.81, 88.10, 86.26]\n",
    "soft_voting_models = ['Ensemble1', 'Ensemble2', 'Ensemble3', 'Ensemble4']\n",
    "plt.style.use('seaborn-poster')\n",
    "plt.title(\"Soft Voting Model Vs Cross Validation Accuracy\")\n",
    "plt.xlabel('Classifier')\n",
    "plt.ylabel('Cross Validation Score (%)')\n",
    "plt.bar(soft_voting_models, soft_voting_accuracy, color=(0.2, 0.4, 0.6, 0.6), width = 0.60)\n",
    "for i, j in enumerate(soft_voting_accuracy):\n",
    "    fig.text(float(i)-0.15, float(j)+0.7, str(j), color='green')\n",
    "plt.show()"
   ]
  },
  {
   "cell_type": "code",
   "execution_count": 7,
   "metadata": {},
   "outputs": [
    {
     "data": {
      "text/html": [
       "<div>\n",
       "<style scoped>\n",
       "    .dataframe tbody tr th:only-of-type {\n",
       "        vertical-align: middle;\n",
       "    }\n",
       "\n",
       "    .dataframe tbody tr th {\n",
       "        vertical-align: top;\n",
       "    }\n",
       "\n",
       "    .dataframe thead th {\n",
       "        text-align: right;\n",
       "    }\n",
       "</style>\n",
       "<table border=\"1\" class=\"dataframe\">\n",
       "  <thead>\n",
       "    <tr style=\"text-align: right;\">\n",
       "      <th></th>\n",
       "      <th>Soft Voting Model</th>\n",
       "      <th>Cross Validation Accuracy(%)</th>\n",
       "    </tr>\n",
       "  </thead>\n",
       "  <tbody>\n",
       "    <tr>\n",
       "      <th>0</th>\n",
       "      <td>LR+SVM+KNN+MNB</td>\n",
       "      <td>87.82</td>\n",
       "    </tr>\n",
       "    <tr>\n",
       "      <th>1</th>\n",
       "      <td>LR+SVM+KNN+MLP</td>\n",
       "      <td>87.81</td>\n",
       "    </tr>\n",
       "    <tr>\n",
       "      <th>2</th>\n",
       "      <td>LR+SVM+KNN+RF</td>\n",
       "      <td>88.10</td>\n",
       "    </tr>\n",
       "    <tr>\n",
       "      <th>3</th>\n",
       "      <td>LR+SVM+KNN+DT</td>\n",
       "      <td>86.26</td>\n",
       "    </tr>\n",
       "  </tbody>\n",
       "</table>\n",
       "</div>"
      ],
      "text/plain": [
       "  Soft Voting Model  Cross Validation Accuracy(%)\n",
       "0    LR+SVM+KNN+MNB                         87.82\n",
       "1    LR+SVM+KNN+MLP                         87.81\n",
       "2     LR+SVM+KNN+RF                         88.10\n",
       "3     LR+SVM+KNN+DT                         86.26"
      ]
     },
     "execution_count": 7,
     "metadata": {},
     "output_type": "execute_result"
    }
   ],
   "source": [
    "dict = {'Soft Voting Model' : ['LR+SVM+KNN+MNB', 'LR+SVM+KNN+MLP', 'LR+SVM+KNN+RF', 'LR+SVM+KNN+DT'],\n",
    "        'Cross Validation Accuracy(%)' : [87.82, 87.81, 88.10, 86.26]}\n",
    "df = pd.DataFrame(dict)\n",
    "df"
   ]
  },
  {
   "cell_type": "code",
   "execution_count": 17,
   "metadata": {},
   "outputs": [
    {
     "ename": "AttributeError",
     "evalue": "'AxesSubplot' object has no attribute 'bar_label'",
     "output_type": "error",
     "traceback": [
      "\u001b[0;31m---------------------------------------------------------------------------\u001b[0m",
      "\u001b[0;31mAttributeError\u001b[0m                            Traceback (most recent call last)",
      "\u001b[0;32m<ipython-input-17-6098ac8f29d7>\u001b[0m in \u001b[0;36m<module>\u001b[0;34m()\u001b[0m\n\u001b[1;32m     21\u001b[0m \u001b[0max\u001b[0m\u001b[0;34m.\u001b[0m\u001b[0mlegend\u001b[0m\u001b[0;34m(\u001b[0m\u001b[0;34m)\u001b[0m\u001b[0;34m\u001b[0m\u001b[0m\n\u001b[1;32m     22\u001b[0m \u001b[0;34m\u001b[0m\u001b[0m\n\u001b[0;32m---> 23\u001b[0;31m \u001b[0max\u001b[0m\u001b[0;34m.\u001b[0m\u001b[0mbar_label\u001b[0m\u001b[0;34m(\u001b[0m\u001b[0mrects1\u001b[0m\u001b[0;34m,\u001b[0m \u001b[0mpadding\u001b[0m\u001b[0;34m=\u001b[0m\u001b[0;36m3\u001b[0m\u001b[0;34m)\u001b[0m\u001b[0;34m\u001b[0m\u001b[0m\n\u001b[0m\u001b[1;32m     24\u001b[0m \u001b[0max\u001b[0m\u001b[0;34m.\u001b[0m\u001b[0mbar_label\u001b[0m\u001b[0;34m(\u001b[0m\u001b[0mrects2\u001b[0m\u001b[0;34m,\u001b[0m \u001b[0mpadding\u001b[0m\u001b[0;34m=\u001b[0m\u001b[0;36m3\u001b[0m\u001b[0;34m)\u001b[0m\u001b[0;34m\u001b[0m\u001b[0m\n\u001b[1;32m     25\u001b[0m \u001b[0;34m\u001b[0m\u001b[0m\n",
      "\u001b[0;31mAttributeError\u001b[0m: 'AxesSubplot' object has no attribute 'bar_label'"
     ]
    },
    {
     "data": {
      "image/png": "[encoded data removed]",
      "text/plain": [
       "<Figure size 921.6x633.6 with 1 Axes>"
      ]
     },
     "metadata": {},
     "output_type": "display_data"
    }
   ],
   "source": [
    "import matplotlib\n",
    "import matplotlib.pyplot as plt\n",
    "import numpy as np\n",
    "\n",
    "labels = ['Ensemble1', 'Ensemble2', 'Ensemble3', 'Ensemble4']\n",
    "soft_voting = [92.53, 92.99, 92.42,92.31]\n",
    "hard_voting = [91.86, 90.95, 92.19, 91.97]\n",
    "\n",
    "x = np.arange(len(labels))  \n",
    "width = 0.35  # the width of the bars\n",
    "\n",
    "fig, ax = plt.subplots()\n",
    "rects1 = ax.bar(x - width/2, soft_voting, width, label='Soft Voting')\n",
    "rects2 = ax.bar(x + width/2, hard_voting, width, label='Hard Voting')\n",
    "\n",
    "# Add some text for labels, title and custom x-axis tick labels, etc.\n",
    "ax.set_ylabel('Accuracy')\n",
    "ax.set_title('SoftVoting and HardVoting Accuracy Comparison for different Ensembles')\n",
    "ax.set_xticks(x)\n",
    "ax.set_xticklabels(labels)\n",
    "ax.legend()\n",
    "\n",
    "ax.bar_label(rects1, padding=3)\n",
    "ax.bar_label(rects2, padding=3)\n",
    "\n",
    "#fig.tight_layout()\n",
    "\n",
    "plt.show()"
   ]
  },
  {
   "cell_type": "code",
   "execution_count": null,
   "metadata": {},
   "outputs": [],
   "source": []
  }
 ],
 "metadata": {
  "kernelspec": {
   "display_name": "Python 3",
   "language": "python",
   "name": "python3"
  },
  "language_info": {
   "codemirror_mode": {
    "name": "ipython",
    "version": 3
   },
   "file_extension": ".py",
   "mimetype": "text/x-python",
   "name": "python",
   "nbconvert_exporter": "python",
   "pygments_lexer": "ipython3",
   "version": "3.6.5"
  }
 },
 "nbformat": 4,
 "nbformat_minor": 2
}
