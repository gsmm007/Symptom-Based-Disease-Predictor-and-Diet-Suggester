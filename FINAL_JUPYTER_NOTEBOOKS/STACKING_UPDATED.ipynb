{
 "cells": [
  {
   "cell_type": "code",
   "execution_count": 1,
   "metadata": {},
   "outputs": [],
   "source": [
    "import warnings\n",
    "from decimal import Decimal\n",
    "import pandas as pd\n",
    "import numpy as np\n",
    "from sklearn.tree import DecisionTreeClassifier\n",
    "from sklearn.linear_model import LogisticRegression\n",
    "from sklearn.neighbors import KNeighborsClassifier\n",
    "from sklearn.svm import SVC\n",
    "from sklearn.metrics import accuracy_score\n",
    "from sklearn.model_selection import train_test_split, cross_val_score\n",
    "from sklearn.model_selection import GridSearchCV\n",
    "from sklearn.naive_bayes import MultinomialNB\n",
    "from sklearn.ensemble import RandomForestClassifier, VotingClassifier, StackingClassifier\n",
    "from sklearn.neural_network import MLPClassifier\n",
    "from sklearn.model_selection import RepeatedStratifiedKFold\n",
    "from xgboost import XGBClassifier\n",
    "import matplotlib.pyplot as plt\n",
    "from sklearn.model_selection import KFold\n",
    "from sklearn import preprocessing\n",
    "# ignore warnings generated due to usage of old version of tensorflow\n",
    "warnings.simplefilter(\"ignore\")"
   ]
  },
  {
   "cell_type": "code",
   "execution_count": 2,
   "metadata": {},
   "outputs": [],
   "source": [
    "df_comb = pd.read_csv(\"Dataset/dis_sym_dataset_comb.csv\")\n",
    "X = df_comb.iloc[:, 1:]\n",
    "Y = df_comb.iloc[:, 0:1]\n",
    "x_train, x_test, y_train, y_test = train_test_split(X, Y, test_size=0.10)"
   ]
  },
  {
   "cell_type": "code",
   "execution_count": 25,
   "metadata": {},
   "outputs": [],
   "source": [
    "accuracy_list = []\n",
    "cross_accuracy_list = []\n",
    "model_list = []\n",
    "base_learners = []\n",
    "knn = KNeighborsClassifier(n_neighbors=7, weights='distance', n_jobs=4)\n",
    "svm = SVC(probability=True)\n",
    "rf = RandomForestClassifier(n_estimators=10, criterion='entropy')\n",
    "mlp = MLPClassifier(hidden_layer_sizes=(32, 32, 32), activation='relu', solver='adam', max_iter=50)\n",
    "dt = DecisionTreeClassifier()\n",
    "base_learners.append(knn)\n",
    "base_learners.append(svm)\n",
    "base_learners.append(rf)\n",
    "base_learners.append(mlp)\n",
    "base_learners.append(dt)\n",
    "meta_learner = LogisticRegression()"
   ]
  },
  {
   "cell_type": "markdown",
   "metadata": {},
   "source": [
    "## TESTING"
   ]
  },
  {
   "cell_type": "code",
   "execution_count": 32,
   "metadata": {},
   "outputs": [
    {
     "data": {
      "text/plain": [
       "0.9049773755656109"
      ]
     },
     "execution_count": 32,
     "metadata": {},
     "output_type": "execute_result"
    }
   ],
   "source": [
    "base_learners = [\n",
    "                 ('KNN', KNeighborsClassifier(n_neighbors=7, weights='distance', n_jobs=4)),\n",
    "                 ('SVM', SVC(probability=True)),\n",
    "                 ('RF', RandomForestClassifier(n_estimators=10, criterion='entropy')),\n",
    "                 ('MLP', MLPClassifier(hidden_layer_sizes=(32, 32, 32), activation='relu', solver='adam', max_iter=50)),\n",
    "                 ('DT', DecisionTreeClassifier())\n",
    "                ]\n",
    "\n",
    "# Initialize Stacking Classifier with the Meta Learner\n",
    "clf = StackingClassifier(estimators=base_learners, final_estimator=LogisticRegression(), cv = 5)\n",
    "\n",
    "# Extract score\n",
    "clf = clf.fit(X,Y)\n"
   ]
  },
  {
   "cell_type": "markdown",
   "metadata": {},
   "source": [
    "## BASE LEARNERS: KNN+SVM+RF"
   ]
  },
  {
   "cell_type": "code",
   "execution_count": 33,
   "metadata": {},
   "outputs": [
    {
     "name": "stdout",
     "output_type": "stream",
     "text": [
      "Accuracy: 89.82%\n"
     ]
    }
   ],
   "source": [
    "base_learners2 = [\n",
    "                 ('KNN', KNeighborsClassifier(n_neighbors=7, weights='distance', n_jobs=4)),\n",
    "                 ('SVM', SVC(probability=True)),\n",
    "                 ('RF', RandomForestClassifier(n_estimators=10, criterion='entropy')),\n",
    "                  ]\n",
    "clf2 = StackingClassifier(estimators=base_learners2, final_estimator=LogisticRegression(), cv = 5)\n",
    "clf2 = clf2.fit(X,Y)\n",
    "clf_pred2 = clf2.predict(x_test)\n",
    "acc_clf2= round(Decimal(accuracy_score(y_test, clf_pred2) * 100), 2)\n",
    "print(f\"Accuracy: {acc_clf2}%\")"
   ]
  },
  {
   "cell_type": "code",
   "execution_count": 35,
   "metadata": {},
   "outputs": [],
   "source": [
    "cv = RepeatedStratifiedKFold(n_splits=5, n_repeats=3, random_state=1)\n",
    "scores = cross_val_score(clf2, X, Y, scoring='accuracy', cv=cv, n_jobs=-1, error_score='raise')"
   ]
  },
  {
   "cell_type": "code",
   "execution_count": 36,
   "metadata": {},
   "outputs": [
    {
     "name": "stdout",
     "output_type": "stream",
     "text": [
      "Cross Validation Accuracy (scores1): 84.32%\n"
     ]
    }
   ],
   "source": [
    "scores1 = round(Decimal(scores.mean() * 100), 2)\n",
    "print(f\"Cross Validation Accuracy (scores1): {scores1}%\")"
   ]
  },
  {
   "cell_type": "markdown",
   "metadata": {},
   "source": [
    "## BASE_LEARNERS: KNN+SVM+RF+MLP+DT"
   ]
  },
  {
   "cell_type": "code",
   "execution_count": 40,
   "metadata": {},
   "outputs": [
    {
     "name": "stdout",
     "output_type": "stream",
     "text": [
      "Accuracy: 90.27%\n",
      "Cross Validation Accuracy (score3): 87.09%\n"
     ]
    }
   ],
   "source": [
    "base_learners3 = [\n",
    "                 ('KNN', KNeighborsClassifier(n_neighbors=7, weights='distance', n_jobs=4)),\n",
    "                 ('SVM', SVC(probability=True)),\n",
    "                 ('RF', RandomForestClassifier(n_estimators=10, criterion='entropy')),\n",
    "                 ('MLP', MLPClassifier(hidden_layer_sizes=(32, 32, 32), activation='relu', solver='adam', max_iter=50)),\n",
    "                 ('DT', DecisionTreeClassifier())\n",
    "                  ]\n",
    "clf3 = StackingClassifier(estimators=base_learners3, final_estimator=LogisticRegression(), cv = 5)\n",
    "clf3 = clf3.fit(X,Y)\n",
    "clf_pred3 = clf3.predict(x_test)\n",
    "acc_clf3= round(Decimal(accuracy_score(y_test, clf_pred3) * 100), 2)\n",
    "print(f\"Accuracy: {acc_clf3}%\")\n",
    "scores3 = cross_val_score(clf3, X, Y, scoring='accuracy', cv=5, n_jobs=-1, error_score='raise')\n",
    "score3 = round(Decimal(scores3.mean() * 100), 2)\n",
    "print(f\"Cross Validation Accuracy (score3): {score3}%\")"
   ]
  },
  {
   "cell_type": "markdown",
   "metadata": {},
   "source": [
    "## BASE_LEARNERS: KNN+SVM+RF+MLP+LR"
   ]
  },
  {
   "cell_type": "code",
   "execution_count": 39,
   "metadata": {},
   "outputs": [
    {
     "name": "stdout",
     "output_type": "stream",
     "text": [
      "Accuracy: 90.38%\n",
      "Cross Validation Accuracy (score4): 86.89%\n"
     ]
    }
   ],
   "source": [
    "base_learners4 = [\n",
    "                 ('KNN', KNeighborsClassifier(n_neighbors=7, weights='distance', n_jobs=4)),\n",
    "                 ('SVM', SVC(probability=True)),\n",
    "                 ('RF', RandomForestClassifier(n_estimators=10, criterion='entropy')),\n",
    "                 ('MLP', MLPClassifier(hidden_layer_sizes=(32, 32, 32), activation='relu', solver='adam', max_iter=50)),\n",
    "                 ('DT', LogisticRegression())\n",
    "                  ]\n",
    "clf4 = StackingClassifier(estimators=base_learners4, final_estimator=LogisticRegression(), cv = 5)\n",
    "clf4 = clf4.fit(X,Y)\n",
    "clf_pred4 = clf4.predict(x_test)\n",
    "acc_clf4= round(Decimal(accuracy_score(y_test, clf_pred4) * 100), 2)\n",
    "print(f\"Accuracy: {acc_clf4}%\")\n",
    "cv = RepeatedStratifiedKFold(n_splits=5, n_repeats=3, random_state=1)\n",
    "scores4 = cross_val_score(clf4, X, Y, scoring='accuracy', cv=cv, n_jobs=-1, error_score='raise')\n",
    "score4 = round(Decimal(scores4.mean() * 100), 2)\n",
    "print(f\"Cross Validation Accuracy (score4): {score4}%\")"
   ]
  },
  {
   "cell_type": "markdown",
   "metadata": {},
   "source": [
    "## BASE_LEARNERS:  KNN + SVM + MLP"
   ]
  },
  {
   "cell_type": "code",
   "execution_count": 3,
   "metadata": {},
   "outputs": [
    {
     "name": "stdout",
     "output_type": "stream",
     "text": [
      "Accuracy: 90.27%\n",
      "Cross Validation Accuracy (score5): 86.29%\n"
     ]
    }
   ],
   "source": [
    "base_learners5 = [\n",
    "                 ('KNN', KNeighborsClassifier(n_neighbors=7, weights='distance', n_jobs=4)),\n",
    "                 ('SVM', SVC(probability=True)),\n",
    "                 ('MLP', MLPClassifier(hidden_layer_sizes=(32, 32, 32), activation='relu', solver='adam', max_iter=50)),\n",
    "                  ]\n",
    "clf5 = StackingClassifier(estimators=base_learners5, final_estimator=LogisticRegression(), cv = 5)\n",
    "clf5 = clf5.fit(X,Y)\n",
    "clf_pred5 = clf5.predict(x_test)\n",
    "acc_clf5= round(Decimal(accuracy_score(y_test, clf_pred5) * 100), 2)\n",
    "print(f\"Accuracy: {acc_clf5}%\")\n",
    "cv = RepeatedStratifiedKFold(n_splits=5, n_repeats=3, random_state=1)\n",
    "scores5 = cross_val_score(clf5, X, Y, scoring='accuracy', cv=cv, n_jobs=-1, error_score='raise')\n",
    "score5 = round(Decimal(scores5.mean() * 100), 2)\n",
    "print(f\"Cross Validation Accuracy (score5): {score5}%\")"
   ]
  },
  {
   "cell_type": "code",
   "execution_count": null,
   "metadata": {},
   "outputs": [],
   "source": []
  }
 ],
 "metadata": {
  "kernelspec": {
   "display_name": "Python 3",
   "language": "python",
   "name": "python3"
  },
  "language_info": {
   "codemirror_mode": {
    "name": "ipython",
    "version": 3
   },
   "file_extension": ".py",
   "mimetype": "text/x-python",
   "name": "python",
   "nbconvert_exporter": "python",
   "pygments_lexer": "ipython3",
   "version": "3.6.5"
  }
 },
 "nbformat": 4,
 "nbformat_minor": 2
}
